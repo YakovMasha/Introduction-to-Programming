{
  "nbformat": 4,
  "nbformat_minor": 0,
  "metadata": {
    "colab": {
      "provenance": []
    },
    "kernelspec": {
      "name": "python3",
      "display_name": "Python 3"
    },
    "language_info": {
      "name": "python"
    }
  },
  "cells": [
    {
      "cell_type": "code",
      "execution_count": 2,
      "metadata": {
        "id": "ZpwhZfIeKV5r",
        "colab": {
          "base_uri": "https://localhost:8080/"
        },
        "outputId": "308f6850-972a-400b-c97b-269ba332c7bc"
      },
      "outputs": [
        {
          "output_type": "stream",
          "name": "stdout",
          "text": [
            "Введите пароль: секрет\n",
            "Пароль неверный\n"
          ]
        }
      ],
      "source": [
        "# 1 пароль\n",
        "# пер. с верным паролем\n",
        "correct_password = \"secret\"\n",
        "\n",
        "# запрс пароля\n",
        "user_password = input(\"Введите пароль: \")\n",
        "\n",
        "# проверяем на верность и выводим соответсвующий текст\n",
        "if user_password == correct_password:\n",
        "    print(\"Пароль верный\")\n",
        "else:\n",
        "    print(\"Пароль неверный\")"
      ]
    },
    {
      "cell_type": "code",
      "source": [
        "# 2 возраст\n",
        "# запрос\n",
        "age = int(input(\"Введите возраст: \"))\n",
        "\n",
        "# проверка\n",
        "if age >= 18:\n",
        "    print(\"Доступ разрешен\")\n",
        "else:\n",
        "    print(\"Доступ запрещен\")"
      ],
      "metadata": {
        "colab": {
          "base_uri": "https://localhost:8080/"
        },
        "id": "9uayuNnPK9Oe",
        "outputId": "5d0220c0-0e17-4857-b56f-1ddc2716b3c6"
      },
      "execution_count": 3,
      "outputs": [
        {
          "output_type": "stream",
          "name": "stdout",
          "text": [
            "Введите возраст: 22\n",
            "Доступ разрешен\n"
          ]
        }
      ]
    },
    {
      "cell_type": "code",
      "source": [
        "# 3 привествие по врмени суток\n",
        "\n",
        "# ввод времени?\n",
        "time_input = input(\"Введите время: \")\n",
        "\n",
        "# делим строку по знаку \":\"\n",
        "time_parts = time_input.split(\":\")\n",
        "\n",
        "# Извлечение часа из строки\n",
        "hour = int(time_parts[0])\n",
        "\n",
        "# определяем время суток и выдаем приветствие\n",
        "if 6 <= hour < 12:\n",
        "    print(\"Доброе утро!\")\n",
        "elif 12 <= hour < 18:\n",
        "    print(\"Добрый день!\")\n",
        "elif 18 <= hour < 24:\n",
        "    print(\"Добрый вечер!\")\n",
        "else:\n",
        "    print(\"Доброй ночи!\")"
      ],
      "metadata": {
        "colab": {
          "base_uri": "https://localhost:8080/"
        },
        "id": "wS5syf-oLeGa",
        "outputId": "ae2372b1-74c2-41d7-d110-211806863440"
      },
      "execution_count": 4,
      "outputs": [
        {
          "output_type": "stream",
          "name": "stdout",
          "text": [
            "Введите время: 19:59\n",
            "Добрый вечер!\n"
          ]
        }
      ]
    },
    {
      "cell_type": "code",
      "source": [
        "# 4 целочисленный калькулятор\n",
        "expression = input('введите выражение с двумя элементами: ')\n",
        "parts = expression.split()\n",
        "\n",
        "if len(parts) != 3:\n",
        "    print(\"Ошибка: выражение должно содержать два числа и один оператор, разделенные пробелами.\")\n",
        "else:\n",
        "    # извлекаем сами числа + символ операции\n",
        "    num1 = int(parts[0])\n",
        "    operator = parts[1]\n",
        "    num2 = int(parts[2])\n",
        "\n",
        "    # выполним операцию в зависимости от вводных символов\n",
        "    if operator == '+':\n",
        "        result = num1 + num2\n",
        "    elif operator == '-':\n",
        "        result = num1 - num2\n",
        "    elif operator == '*':\n",
        "        result = num1 * num2\n",
        "    elif operator == ':':\n",
        "        result = num1 // num2\n",
        "    else:\n",
        "        print(\"Ошибка: неизвестный оператор.\") # если ввели непредусмотренный символ для операции\n",
        "        result = None\n",
        "\n",
        "    # вывод\n",
        "    if result is not None:\n",
        "        print(result)"
      ],
      "metadata": {
        "colab": {
          "base_uri": "https://localhost:8080/"
        },
        "id": "KEX4_nCZOhs4",
        "outputId": "bb822e8d-fdbe-43b5-d4e4-67f5b9ad195b"
      },
      "execution_count": 10,
      "outputs": [
        {
          "output_type": "stream",
          "name": "stdout",
          "text": [
            "введите выражение с двумя элементами: 35 - 12\n",
            "23\n"
          ]
        }
      ]
    },
    {
      "cell_type": "code",
      "source": [
        "# 5 Умный калькулятор\n",
        "expression = input('Введите выражение: ')\n",
        "parts = expression.split()\n",
        "\n",
        "if len(parts) != 3:\n",
        "    print(\"Ошибка: выражение должно содержать два числа и один оператор, разделенные пробелами.\")\n",
        "else:\n",
        "    # извлекаем сами числа + символ операции\n",
        "    num1 = float(parts[0])\n",
        "    operator = parts[1]\n",
        "    num2 = float(parts[2])\n",
        "\n",
        "    # выполним операцию в зависимости от вводных символов\n",
        "    if operator == '+':\n",
        "        result = num1 + num2\n",
        "    elif operator == '-':\n",
        "        result = num1 - num2\n",
        "    elif operator == '*':\n",
        "        result = num1 * num2\n",
        "    elif operator == '/':\n",
        "        result = num1 / num2\n",
        "    elif operator == '==':\n",
        "        result = num1 == num2\n",
        "    elif operator == '!=':\n",
        "        result = num1 != num2\n",
        "    elif operator == '>':\n",
        "        result = num1 > num2\n",
        "    elif operator == '<':\n",
        "        result = num1 < num2\n",
        "    elif operator == '>=':\n",
        "        result = num1 >= num2\n",
        "    elif operator == '<=':\n",
        "        result = num1 <= num2\n",
        "    else:\n",
        "        print(\"Ошибка: неизвестный оператор.\") # если ввели непредусмотренный символ для операции\n",
        "        result = None\n",
        "\n",
        "    # вывод\n",
        "    if result is not None:\n",
        "        if isinstance(result, bool):\n",
        "            print(result)\n",
        "        elif result.is_integer():\n",
        "            print(int(result))\n",
        "        else:\n",
        "            print(result)"
      ],
      "metadata": {
        "colab": {
          "base_uri": "https://localhost:8080/"
        },
        "id": "JZiQFgRGPRng",
        "outputId": "cc11913e-f1e1-42be-d918-7638d76eb41f"
      },
      "execution_count": 12,
      "outputs": [
        {
          "output_type": "stream",
          "name": "stdout",
          "text": [
            "Введите выражение: 5.7 > 6.9\n",
            "False\n"
          ]
        }
      ]
    },
    {
      "cell_type": "code",
      "source": [
        "# 6 фильрация данных\n",
        "# Список продуктов\n",
        "val_products = [\"Laptop True\", \"Headphones False\", \"Smartphone True\", \"Tablet True\", \"Speaker False\"]\n",
        "\n",
        "# переборка\n",
        "for product in val_products:\n",
        "    # делим элементы на составляющие\n",
        "    parts = product.split()\n",
        "    # проверка наличия\n",
        "    if parts[1] == \"True\":\n",
        "        # выводим\n",
        "        print(parts[0])"
      ],
      "metadata": {
        "colab": {
          "base_uri": "https://localhost:8080/"
        },
        "id": "SXE5Zz19QE4t",
        "outputId": "1803c9dc-c061-48b6-fdb6-5b90af16d5b9"
      },
      "execution_count": 22,
      "outputs": [
        {
          "output_type": "stream",
          "name": "stdout",
          "text": [
            "Laptop\n",
            "Smartphone\n",
            "Tablet\n"
          ]
        }
      ]
    },
    {
      "cell_type": "code",
      "source": [
        "# 7 фильтрация по числу\n",
        "\n",
        "num_products = [\"Laptop 8\", \"Headphones 12\", \"Smartphone 41\", \"Tablet 10\", \"Speaker 6\"]\n",
        "\n",
        "# перебираем\n",
        "for product in num_products:\n",
        "    # делим имя и кол-во\n",
        "    name, quantity = product.split()\n",
        "# преобразуем в число\n",
        "    quantity = int(quantity)\n",
        "\n",
        "    # проверка\n",
        "    if quantity >= 10:\n",
        "        print(name)"
      ],
      "metadata": {
        "colab": {
          "base_uri": "https://localhost:8080/"
        },
        "id": "Z3uuU2FWRWnq",
        "outputId": "13b5d5a1-6d13-4c09-c14d-a2658a297b0f"
      },
      "execution_count": 23,
      "outputs": [
        {
          "output_type": "stream",
          "name": "stdout",
          "text": [
            "Headphones\n",
            "Smartphone\n",
            "Tablet\n"
          ]
        }
      ]
    },
    {
      "cell_type": "code",
      "source": [
        "#8 изменение списка\n",
        "new_products = [\"Desktop 16\", \"Mouse 2\", \"Keyboard 4\"]\n",
        "num_products = [\"Laptop 8\", \"Headphones 12\", \"Smartphone 41\", \"Tablet 10\", \"Speaker 6\"]\n",
        "# добавляем\n",
        "for product in new_products:\n",
        "    product_type, quantity = product.split()\n",
        "    quantity = int(quantity)  # > целое\n",
        "\n",
        "    # условие\n",
        "    if quantity >= 10:\n",
        "        num_products.append(product)\n",
        "\n",
        "# убираем элементы меньше 10\n",
        "for product in num_products[:]:  #\n",
        "    product_type, quantity = product.split()\n",
        "    quantity = int(quantity)\n",
        "\n",
        "    # снова условие (убираем лишнее)\n",
        "    if quantity < 10:\n",
        "        num_products.remove(product)\n",
        "\n",
        "print(num_products)"
      ],
      "metadata": {
        "colab": {
          "base_uri": "https://localhost:8080/"
        },
        "id": "PnsyZLekSyzk",
        "outputId": "c5c49f4e-3770-44be-fb61-ae702caad47c"
      },
      "execution_count": 26,
      "outputs": [
        {
          "output_type": "stream",
          "name": "stdout",
          "text": [
            "['Headphones 12', 'Smartphone 41', 'Tablet 10', 'Desktop 16']\n"
          ]
        }
      ]
    },
    {
      "cell_type": "code",
      "source": [
        "# 9 фильтрация списка имен\n",
        "names = [\"Tom\", \"Chloe\", \"Alex\", \"George\", \"Lauren\", \"Jordan\"]\n",
        "\n",
        "# Создайте 2 пустых списка a_k и l_z\n",
        "a_k = []\n",
        "l_z = []\n",
        "\n",
        "for name in names:\n",
        "    if name[0].upper() <= 'K':\n",
        "        a_k.append(name)\n",
        "    else:\n",
        "        l_z.append(name)\n",
        "\n",
        "# sorted, чтобы перезаписать в оба списка отсортированные именна\n",
        "a_k = sorted(a_k)\n",
        "l_z = sorted(l_z)\n",
        "\n",
        "print(\"a_k =\", a_k)\n",
        "print(\"l_z =\", l_z)"
      ],
      "metadata": {
        "colab": {
          "base_uri": "https://localhost:8080/"
        },
        "id": "DJRLfSrJTYEl",
        "outputId": "07617166-139c-488e-d626-aa136bb14f4f"
      },
      "execution_count": 28,
      "outputs": [
        {
          "output_type": "stream",
          "name": "stdout",
          "text": [
            "a_k = ['Alex', 'Chloe', 'George', 'Jordan']\n",
            "l_z = ['Lauren', 'Tom']\n"
          ]
        }
      ]
    },
    {
      "cell_type": "code",
      "source": [
        "# 10 фильтрация типов\n",
        "mixed_list = [3, 1, \"kiwi\", 7.6, False, True, \"apple\", 2.5, \"banana\", True, 4]\n",
        "\n",
        "# Создайте пустые списки\n",
        "nums = []\n",
        "names = []\n",
        "floats = []\n",
        "bools = []\n",
        "\n",
        "for element in mixed_list:\n",
        "    # смотрим тип (сначала булевые, иначе если перед ними стоит проверка на целочисленные, то он может отнести булевые кint)\n",
        "    if isinstance(element, bool):\n",
        "        # добавляем в соотв. список\n",
        "        bools.append(element)\n",
        "    elif isinstance(element, int):\n",
        "        nums.append(element)\n",
        "    elif isinstance(element, str):\n",
        "        names.append(element)\n",
        "    elif isinstance(element, float):\n",
        "        floats.append(element)\n",
        "\n",
        "# сортируем по типам\n",
        "nums = sorted(nums)\n",
        "names = sorted(names)\n",
        "floats = sorted(floats)\n",
        "bools = sorted(bools)\n",
        "\n",
        "print(\"nums =\", nums)\n",
        "print(\"names =\", names)\n",
        "print(\"floats =\", floats)\n",
        "print(\"bools =\", bools)"
      ],
      "metadata": {
        "colab": {
          "base_uri": "https://localhost:8080/"
        },
        "id": "mqaLI5szUc30",
        "outputId": "a3369303-778c-4479-c367-4d023cc63c7c"
      },
      "execution_count": 31,
      "outputs": [
        {
          "output_type": "stream",
          "name": "stdout",
          "text": [
            "nums = [1, 3, 4]\n",
            "names = ['apple', 'banana', 'kiwi']\n",
            "floats = [2.5, 7.6]\n",
            "bools = [False, True, True]\n"
          ]
        }
      ]
    }
  ]
}